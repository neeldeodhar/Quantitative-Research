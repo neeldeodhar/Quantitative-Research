{
 "cells": [
  {
   "cell_type": "code",
   "execution_count": 1544,
   "id": "8b4157a4-d2a3-418f-a33c-817eaec4b363",
   "metadata": {},
   "outputs": [],
   "source": [
    "import pandas as pd\n",
    "import numpy as np\n",
    "import matplotlib.pyplot as plt\n",
    "import datetime as dt\n",
    "\n",
    "from sklearn.linear_model import LinearRegression\n",
    "from sklearn.metrics import mean_squared_error\n",
    "from sklearn.metrics import mean_absolute_error\n",
    "\n"
   ]
  },
  {
   "cell_type": "code",
   "execution_count": 1545,
   "id": "ddc937bd-2650-49c1-815f-d9110c2338a9",
   "metadata": {},
   "outputs": [
    {
     "data": {
      "text/html": [
       "<div>\n",
       "<style scoped>\n",
       "    .dataframe tbody tr th:only-of-type {\n",
       "        vertical-align: middle;\n",
       "    }\n",
       "\n",
       "    .dataframe tbody tr th {\n",
       "        vertical-align: top;\n",
       "    }\n",
       "\n",
       "    .dataframe thead th {\n",
       "        text-align: right;\n",
       "    }\n",
       "</style>\n",
       "<table border=\"1\" class=\"dataframe\">\n",
       "  <thead>\n",
       "    <tr style=\"text-align: right;\">\n",
       "      <th></th>\n",
       "      <th>Dates</th>\n",
       "      <th>Prices</th>\n",
       "    </tr>\n",
       "  </thead>\n",
       "  <tbody>\n",
       "    <tr>\n",
       "      <th>0</th>\n",
       "      <td>10/31/20</td>\n",
       "      <td>10.10</td>\n",
       "    </tr>\n",
       "    <tr>\n",
       "      <th>1</th>\n",
       "      <td>11/30/20</td>\n",
       "      <td>10.30</td>\n",
       "    </tr>\n",
       "    <tr>\n",
       "      <th>2</th>\n",
       "      <td>12/31/20</td>\n",
       "      <td>11.00</td>\n",
       "    </tr>\n",
       "    <tr>\n",
       "      <th>3</th>\n",
       "      <td>1/31/21</td>\n",
       "      <td>10.90</td>\n",
       "    </tr>\n",
       "    <tr>\n",
       "      <th>4</th>\n",
       "      <td>2/28/21</td>\n",
       "      <td>10.90</td>\n",
       "    </tr>\n",
       "    <tr>\n",
       "      <th>5</th>\n",
       "      <td>3/31/21</td>\n",
       "      <td>10.90</td>\n",
       "    </tr>\n",
       "    <tr>\n",
       "      <th>6</th>\n",
       "      <td>4/30/21</td>\n",
       "      <td>10.40</td>\n",
       "    </tr>\n",
       "    <tr>\n",
       "      <th>7</th>\n",
       "      <td>5/31/21</td>\n",
       "      <td>9.84</td>\n",
       "    </tr>\n",
       "    <tr>\n",
       "      <th>8</th>\n",
       "      <td>6/30/21</td>\n",
       "      <td>10.00</td>\n",
       "    </tr>\n",
       "    <tr>\n",
       "      <th>9</th>\n",
       "      <td>7/31/21</td>\n",
       "      <td>10.10</td>\n",
       "    </tr>\n",
       "    <tr>\n",
       "      <th>10</th>\n",
       "      <td>8/31/21</td>\n",
       "      <td>10.30</td>\n",
       "    </tr>\n",
       "    <tr>\n",
       "      <th>11</th>\n",
       "      <td>9/30/21</td>\n",
       "      <td>10.20</td>\n",
       "    </tr>\n",
       "    <tr>\n",
       "      <th>12</th>\n",
       "      <td>10/31/21</td>\n",
       "      <td>10.10</td>\n",
       "    </tr>\n",
       "    <tr>\n",
       "      <th>13</th>\n",
       "      <td>11/30/21</td>\n",
       "      <td>11.20</td>\n",
       "    </tr>\n",
       "    <tr>\n",
       "      <th>14</th>\n",
       "      <td>12/31/21</td>\n",
       "      <td>11.40</td>\n",
       "    </tr>\n",
       "    <tr>\n",
       "      <th>15</th>\n",
       "      <td>1/31/22</td>\n",
       "      <td>11.50</td>\n",
       "    </tr>\n",
       "    <tr>\n",
       "      <th>16</th>\n",
       "      <td>2/28/22</td>\n",
       "      <td>11.80</td>\n",
       "    </tr>\n",
       "    <tr>\n",
       "      <th>17</th>\n",
       "      <td>3/31/22</td>\n",
       "      <td>11.50</td>\n",
       "    </tr>\n",
       "    <tr>\n",
       "      <th>18</th>\n",
       "      <td>4/30/22</td>\n",
       "      <td>10.70</td>\n",
       "    </tr>\n",
       "    <tr>\n",
       "      <th>19</th>\n",
       "      <td>5/31/22</td>\n",
       "      <td>10.70</td>\n",
       "    </tr>\n",
       "    <tr>\n",
       "      <th>20</th>\n",
       "      <td>6/30/22</td>\n",
       "      <td>10.40</td>\n",
       "    </tr>\n",
       "    <tr>\n",
       "      <th>21</th>\n",
       "      <td>7/31/22</td>\n",
       "      <td>10.50</td>\n",
       "    </tr>\n",
       "    <tr>\n",
       "      <th>22</th>\n",
       "      <td>8/31/22</td>\n",
       "      <td>10.40</td>\n",
       "    </tr>\n",
       "    <tr>\n",
       "      <th>23</th>\n",
       "      <td>9/30/22</td>\n",
       "      <td>10.80</td>\n",
       "    </tr>\n",
       "    <tr>\n",
       "      <th>24</th>\n",
       "      <td>10/31/22</td>\n",
       "      <td>11.00</td>\n",
       "    </tr>\n",
       "    <tr>\n",
       "      <th>25</th>\n",
       "      <td>11/30/22</td>\n",
       "      <td>11.60</td>\n",
       "    </tr>\n",
       "    <tr>\n",
       "      <th>26</th>\n",
       "      <td>12/31/22</td>\n",
       "      <td>11.60</td>\n",
       "    </tr>\n",
       "    <tr>\n",
       "      <th>27</th>\n",
       "      <td>1/31/23</td>\n",
       "      <td>12.10</td>\n",
       "    </tr>\n",
       "    <tr>\n",
       "      <th>28</th>\n",
       "      <td>2/28/23</td>\n",
       "      <td>11.70</td>\n",
       "    </tr>\n",
       "    <tr>\n",
       "      <th>29</th>\n",
       "      <td>3/31/23</td>\n",
       "      <td>12.00</td>\n",
       "    </tr>\n",
       "    <tr>\n",
       "      <th>30</th>\n",
       "      <td>4/30/23</td>\n",
       "      <td>11.50</td>\n",
       "    </tr>\n",
       "    <tr>\n",
       "      <th>31</th>\n",
       "      <td>5/31/23</td>\n",
       "      <td>11.20</td>\n",
       "    </tr>\n",
       "    <tr>\n",
       "      <th>32</th>\n",
       "      <td>6/30/23</td>\n",
       "      <td>10.90</td>\n",
       "    </tr>\n",
       "    <tr>\n",
       "      <th>33</th>\n",
       "      <td>7/31/23</td>\n",
       "      <td>11.40</td>\n",
       "    </tr>\n",
       "    <tr>\n",
       "      <th>34</th>\n",
       "      <td>8/31/23</td>\n",
       "      <td>11.10</td>\n",
       "    </tr>\n",
       "    <tr>\n",
       "      <th>35</th>\n",
       "      <td>9/30/23</td>\n",
       "      <td>11.50</td>\n",
       "    </tr>\n",
       "    <tr>\n",
       "      <th>36</th>\n",
       "      <td>10/31/23</td>\n",
       "      <td>11.80</td>\n",
       "    </tr>\n",
       "    <tr>\n",
       "      <th>37</th>\n",
       "      <td>11/30/23</td>\n",
       "      <td>12.20</td>\n",
       "    </tr>\n",
       "    <tr>\n",
       "      <th>38</th>\n",
       "      <td>12/31/23</td>\n",
       "      <td>12.80</td>\n",
       "    </tr>\n",
       "    <tr>\n",
       "      <th>39</th>\n",
       "      <td>1/31/24</td>\n",
       "      <td>12.60</td>\n",
       "    </tr>\n",
       "    <tr>\n",
       "      <th>40</th>\n",
       "      <td>2/29/24</td>\n",
       "      <td>12.40</td>\n",
       "    </tr>\n",
       "    <tr>\n",
       "      <th>41</th>\n",
       "      <td>3/31/24</td>\n",
       "      <td>12.70</td>\n",
       "    </tr>\n",
       "    <tr>\n",
       "      <th>42</th>\n",
       "      <td>4/30/24</td>\n",
       "      <td>12.10</td>\n",
       "    </tr>\n",
       "    <tr>\n",
       "      <th>43</th>\n",
       "      <td>5/31/24</td>\n",
       "      <td>11.40</td>\n",
       "    </tr>\n",
       "    <tr>\n",
       "      <th>44</th>\n",
       "      <td>6/30/24</td>\n",
       "      <td>11.50</td>\n",
       "    </tr>\n",
       "    <tr>\n",
       "      <th>45</th>\n",
       "      <td>7/31/24</td>\n",
       "      <td>11.60</td>\n",
       "    </tr>\n",
       "    <tr>\n",
       "      <th>46</th>\n",
       "      <td>8/31/24</td>\n",
       "      <td>11.50</td>\n",
       "    </tr>\n",
       "    <tr>\n",
       "      <th>47</th>\n",
       "      <td>9/30/24</td>\n",
       "      <td>11.80</td>\n",
       "    </tr>\n",
       "  </tbody>\n",
       "</table>\n",
       "</div>"
      ],
      "text/plain": [
       "       Dates  Prices\n",
       "0   10/31/20   10.10\n",
       "1   11/30/20   10.30\n",
       "2   12/31/20   11.00\n",
       "3    1/31/21   10.90\n",
       "4    2/28/21   10.90\n",
       "5    3/31/21   10.90\n",
       "6    4/30/21   10.40\n",
       "7    5/31/21    9.84\n",
       "8    6/30/21   10.00\n",
       "9    7/31/21   10.10\n",
       "10   8/31/21   10.30\n",
       "11   9/30/21   10.20\n",
       "12  10/31/21   10.10\n",
       "13  11/30/21   11.20\n",
       "14  12/31/21   11.40\n",
       "15   1/31/22   11.50\n",
       "16   2/28/22   11.80\n",
       "17   3/31/22   11.50\n",
       "18   4/30/22   10.70\n",
       "19   5/31/22   10.70\n",
       "20   6/30/22   10.40\n",
       "21   7/31/22   10.50\n",
       "22   8/31/22   10.40\n",
       "23   9/30/22   10.80\n",
       "24  10/31/22   11.00\n",
       "25  11/30/22   11.60\n",
       "26  12/31/22   11.60\n",
       "27   1/31/23   12.10\n",
       "28   2/28/23   11.70\n",
       "29   3/31/23   12.00\n",
       "30   4/30/23   11.50\n",
       "31   5/31/23   11.20\n",
       "32   6/30/23   10.90\n",
       "33   7/31/23   11.40\n",
       "34   8/31/23   11.10\n",
       "35   9/30/23   11.50\n",
       "36  10/31/23   11.80\n",
       "37  11/30/23   12.20\n",
       "38  12/31/23   12.80\n",
       "39   1/31/24   12.60\n",
       "40   2/29/24   12.40\n",
       "41   3/31/24   12.70\n",
       "42   4/30/24   12.10\n",
       "43   5/31/24   11.40\n",
       "44   6/30/24   11.50\n",
       "45   7/31/24   11.60\n",
       "46   8/31/24   11.50\n",
       "47   9/30/24   11.80"
      ]
     },
     "execution_count": 1545,
     "metadata": {},
     "output_type": "execute_result"
    }
   ],
   "source": [
    "gas_df = pd.read_csv('Nat_Gas.csv')\n",
    "\n",
    "gas_df.head()\n",
    "\n",
    "gas_df.dropna()"
   ]
  },
  {
   "cell_type": "code",
   "execution_count": 1546,
   "id": "1f0cb297-e4e1-4196-9b32-cdffeca2531e",
   "metadata": {},
   "outputs": [
    {
     "data": {
      "text/html": [
       "<div>\n",
       "<style scoped>\n",
       "    .dataframe tbody tr th:only-of-type {\n",
       "        vertical-align: middle;\n",
       "    }\n",
       "\n",
       "    .dataframe tbody tr th {\n",
       "        vertical-align: top;\n",
       "    }\n",
       "\n",
       "    .dataframe thead th {\n",
       "        text-align: right;\n",
       "    }\n",
       "</style>\n",
       "<table border=\"1\" class=\"dataframe\">\n",
       "  <thead>\n",
       "    <tr style=\"text-align: right;\">\n",
       "      <th></th>\n",
       "      <th>Prices</th>\n",
       "    </tr>\n",
       "  </thead>\n",
       "  <tbody>\n",
       "    <tr>\n",
       "      <th>count</th>\n",
       "      <td>48.000000</td>\n",
       "    </tr>\n",
       "    <tr>\n",
       "      <th>mean</th>\n",
       "      <td>11.207083</td>\n",
       "    </tr>\n",
       "    <tr>\n",
       "      <th>std</th>\n",
       "      <td>0.757897</td>\n",
       "    </tr>\n",
       "    <tr>\n",
       "      <th>min</th>\n",
       "      <td>9.840000</td>\n",
       "    </tr>\n",
       "    <tr>\n",
       "      <th>25%</th>\n",
       "      <td>10.650000</td>\n",
       "    </tr>\n",
       "    <tr>\n",
       "      <th>50%</th>\n",
       "      <td>11.300000</td>\n",
       "    </tr>\n",
       "    <tr>\n",
       "      <th>75%</th>\n",
       "      <td>11.625000</td>\n",
       "    </tr>\n",
       "    <tr>\n",
       "      <th>max</th>\n",
       "      <td>12.800000</td>\n",
       "    </tr>\n",
       "  </tbody>\n",
       "</table>\n",
       "</div>"
      ],
      "text/plain": [
       "          Prices\n",
       "count  48.000000\n",
       "mean   11.207083\n",
       "std     0.757897\n",
       "min     9.840000\n",
       "25%    10.650000\n",
       "50%    11.300000\n",
       "75%    11.625000\n",
       "max    12.800000"
      ]
     },
     "execution_count": 1546,
     "metadata": {},
     "output_type": "execute_result"
    }
   ],
   "source": [
    "gas_df.describe()"
   ]
  },
  {
   "cell_type": "code",
   "execution_count": 1547,
   "id": "ad9d7ff5-9ace-4f1b-9c4c-e5e6dacc13d4",
   "metadata": {},
   "outputs": [
    {
     "data": {
      "image/png": "[encoded data removed]",
      "text/plain": [
       "<Figure size 1500x500 with 1 Axes>"
      ]
     },
     "metadata": {},
     "output_type": "display_data"
    }
   ],
   "source": [
    "plt.figure(figsize = (15,5))\n",
    "plt.plot(gas_df[\"Prices\"])\n",
    "plt.title('Price plotting')\n",
    "plt.xlabel('from 31st October 2020 to 30th September 2024, i.e. 48 months')\n",
    "plt.ylabel('purchase price of natural gas at the end of month')\n",
    "plt.show()"
   ]
  },
  {
   "cell_type": "code",
   "execution_count": 1548,
   "id": "bf2d568b-2cc6-4732-a8b2-19511b4704e0",
   "metadata": {},
   "outputs": [
    {
     "name": "stderr",
     "output_type": "stream",
     "text": [
      "C:\\Users\\ideod\\AppData\\Local\\Temp\\ipykernel_15028\\3429212373.py:6: UserWarning: Could not infer format, so each element will be parsed individually, falling back to `dateutil`. To ensure parsing is consistent and as-expected, please specify a format.\n",
      "  gas_df['Dates'] = pd.to_datetime(gas_df['Dates'])\n"
     ]
    },
    {
     "data": {
      "text/html": [
       "<div>\n",
       "<style scoped>\n",
       "    .dataframe tbody tr th:only-of-type {\n",
       "        vertical-align: middle;\n",
       "    }\n",
       "\n",
       "    .dataframe tbody tr th {\n",
       "        vertical-align: top;\n",
       "    }\n",
       "\n",
       "    .dataframe thead th {\n",
       "        text-align: right;\n",
       "    }\n",
       "</style>\n",
       "<table border=\"1\" class=\"dataframe\">\n",
       "  <thead>\n",
       "    <tr style=\"text-align: right;\">\n",
       "      <th></th>\n",
       "      <th>Dates</th>\n",
       "      <th>Prices</th>\n",
       "      <th>Year</th>\n",
       "      <th>Month</th>\n",
       "    </tr>\n",
       "  </thead>\n",
       "  <tbody>\n",
       "    <tr>\n",
       "      <th>0</th>\n",
       "      <td>2020-10-31</td>\n",
       "      <td>10.1</td>\n",
       "      <td>2020</td>\n",
       "      <td>10</td>\n",
       "    </tr>\n",
       "    <tr>\n",
       "      <th>1</th>\n",
       "      <td>2020-11-30</td>\n",
       "      <td>10.3</td>\n",
       "      <td>2020</td>\n",
       "      <td>11</td>\n",
       "    </tr>\n",
       "    <tr>\n",
       "      <th>2</th>\n",
       "      <td>2020-12-31</td>\n",
       "      <td>11.0</td>\n",
       "      <td>2020</td>\n",
       "      <td>12</td>\n",
       "    </tr>\n",
       "    <tr>\n",
       "      <th>3</th>\n",
       "      <td>2021-01-31</td>\n",
       "      <td>10.9</td>\n",
       "      <td>2021</td>\n",
       "      <td>1</td>\n",
       "    </tr>\n",
       "    <tr>\n",
       "      <th>4</th>\n",
       "      <td>2021-02-28</td>\n",
       "      <td>10.9</td>\n",
       "      <td>2021</td>\n",
       "      <td>2</td>\n",
       "    </tr>\n",
       "  </tbody>\n",
       "</table>\n",
       "</div>"
      ],
      "text/plain": [
       "       Dates  Prices  Year  Month\n",
       "0 2020-10-31    10.1  2020     10\n",
       "1 2020-11-30    10.3  2020     11\n",
       "2 2020-12-31    11.0  2020     12\n",
       "3 2021-01-31    10.9  2021      1\n",
       "4 2021-02-28    10.9  2021      2"
      ]
     },
     "execution_count": 1548,
     "metadata": {},
     "output_type": "execute_result"
    }
   ],
   "source": [
    "#feature engineering\n",
    "\n",
    "#Splitting the Date column into days, months and year\n",
    "\n",
    "\n",
    "gas_df['Dates'] = pd.to_datetime(gas_df['Dates'])\n",
    "gas_df['Year'] = gas_df['Dates'].dt.year\n",
    "gas_df['Month'] = gas_df['Dates'].dt.month\n",
    "\n",
    "\n",
    "gas_df.head()"
   ]
  },
  {
   "cell_type": "code",
   "execution_count": 1549,
   "id": "729dba90-e782-43bb-a2a9-340e4c0f38ca",
   "metadata": {},
   "outputs": [
    {
     "data": {
      "text/html": [
       "<div>\n",
       "<style scoped>\n",
       "    .dataframe tbody tr th:only-of-type {\n",
       "        vertical-align: middle;\n",
       "    }\n",
       "\n",
       "    .dataframe tbody tr th {\n",
       "        vertical-align: top;\n",
       "    }\n",
       "\n",
       "    .dataframe thead th {\n",
       "        text-align: right;\n",
       "    }\n",
       "</style>\n",
       "<table border=\"1\" class=\"dataframe\">\n",
       "  <thead>\n",
       "    <tr style=\"text-align: right;\">\n",
       "      <th></th>\n",
       "      <th>Dates</th>\n",
       "      <th>Prices</th>\n",
       "      <th>Year</th>\n",
       "      <th>Month</th>\n",
       "    </tr>\n",
       "  </thead>\n",
       "  <tbody>\n",
       "    <tr>\n",
       "      <th>9</th>\n",
       "      <td>2021-07-31</td>\n",
       "      <td>10.1</td>\n",
       "      <td>2021</td>\n",
       "      <td>7</td>\n",
       "    </tr>\n",
       "    <tr>\n",
       "      <th>21</th>\n",
       "      <td>2022-07-31</td>\n",
       "      <td>10.5</td>\n",
       "      <td>2022</td>\n",
       "      <td>7</td>\n",
       "    </tr>\n",
       "    <tr>\n",
       "      <th>33</th>\n",
       "      <td>2023-07-31</td>\n",
       "      <td>11.4</td>\n",
       "      <td>2023</td>\n",
       "      <td>7</td>\n",
       "    </tr>\n",
       "    <tr>\n",
       "      <th>45</th>\n",
       "      <td>2024-07-31</td>\n",
       "      <td>11.6</td>\n",
       "      <td>2024</td>\n",
       "      <td>7</td>\n",
       "    </tr>\n",
       "  </tbody>\n",
       "</table>\n",
       "</div>"
      ],
      "text/plain": [
       "        Dates  Prices  Year  Month\n",
       "9  2021-07-31    10.1  2021      7\n",
       "21 2022-07-31    10.5  2022      7\n",
       "33 2023-07-31    11.4  2023      7\n",
       "45 2024-07-31    11.6  2024      7"
      ]
     },
     "execution_count": 1549,
     "metadata": {},
     "output_type": "execute_result"
    }
   ],
   "source": [
    "#tracking July months only from 2020 to 2024\n",
    "gas_July = gas_df[gas_df['Month'] == 7]\n",
    "gas_July"
   ]
  },
  {
   "cell_type": "code",
   "execution_count": 1550,
   "id": "4fd238a5-e564-4515-850b-bff733ab90bb",
   "metadata": {},
   "outputs": [
    {
     "data": {
      "text/plain": [
       "False"
      ]
     },
     "execution_count": 1550,
     "metadata": {},
     "output_type": "execute_result"
    }
   ],
   "source": [
    "#checking for null values \n",
    "gas_df.duplicated().sum().any()"
   ]
  },
  {
   "cell_type": "code",
   "execution_count": 1551,
   "id": "5617e6f1-f6cc-4b15-95b3-4c51aae26bc2",
   "metadata": {},
   "outputs": [
    {
     "data": {
      "text/plain": [
       "False"
      ]
     },
     "execution_count": 1551,
     "metadata": {},
     "output_type": "execute_result"
    }
   ],
   "source": [
    "gas_df.isnull().values.any()"
   ]
  },
  {
   "cell_type": "code",
   "execution_count": 1552,
   "id": "6aad0375-5ee7-4ba2-9a30-812860775490",
   "metadata": {},
   "outputs": [
    {
     "name": "stdout",
     "output_type": "stream",
     "text": [
      "The problem could be solved through regression analysis, as it can be used to determine relationship between actual and predicted price\n"
     ]
    }
   ],
   "source": [
    "#definition of the problem\n",
    "\n",
    "print('The problem could be solved through regression analysis, as it can be used to determine relationship between actual and predicted price')"
   ]
  },
  {
   "cell_type": "code",
   "execution_count": 1553,
   "id": "a4e3db14-4cab-4a9f-817e-201489b6e89c",
   "metadata": {},
   "outputs": [],
   "source": [
    "#CREATING TRAINING AND TEST SETS\n",
    "#from sklearn.model_selection import train_test_split\n",
    "#X_train, X_test, y_train, y_test = train_test_split(X, y, test_size = 0.2, random_state = 0, shuffle = True)"
   ]
  },
  {
   "cell_type": "code",
   "execution_count": 1554,
   "id": "43ade519-7a61-4176-8b05-da995bca3359",
   "metadata": {},
   "outputs": [],
   "source": [
    "#CREATING AND TRAINING LINEAR REGRESSION MODEL\n",
    "\n",
    "from sklearn.metrics import confusion_matrix, accuracy_score\n",
    "#creating a price list for next year price function\n",
    "\n",
    "def next_year_price(next_year):\n",
    "    prices_next_year = []\n",
    "    for i in np.arange(12):\n",
    "        X = np.array(gas_df[gas_df['Month'] == 1+i]['Year']).reshape(-1,1)\n",
    "        y = np.array(gas_df[gas_df['Month'] == 1+ i]['Prices'])\n",
    "        regress = LinearRegression().fit(X,y)\n",
    "        predictions = regress.predict([[next_year]])\n",
    "        prices_next_year.append(round(float(predictions), 2))\n",
    "\n",
    "    return prices_next_year\n"
   ]
  },
  {
   "cell_type": "code",
   "execution_count": 1555,
   "id": "414520e7-3597-41b0-b184-70cee64de564",
   "metadata": {
    "scrolled": true
   },
   "outputs": [
    {
     "name": "stderr",
     "output_type": "stream",
     "text": [
      "C:\\Users\\ideod\\AppData\\Local\\Temp\\ipykernel_15028\\3616022321.py:13: DeprecationWarning: Conversion of an array with ndim > 0 to a scalar is deprecated, and will error in future. Ensure you extract a single element from your array before performing this operation. (Deprecated NumPy 1.25.)\n",
      "  prices_next_year.append(round(float(predictions), 2))\n",
      "C:\\Users\\ideod\\AppData\\Local\\Temp\\ipykernel_15028\\3616022321.py:13: DeprecationWarning: Conversion of an array with ndim > 0 to a scalar is deprecated, and will error in future. Ensure you extract a single element from your array before performing this operation. (Deprecated NumPy 1.25.)\n",
      "  prices_next_year.append(round(float(predictions), 2))\n",
      "C:\\Users\\ideod\\AppData\\Local\\Temp\\ipykernel_15028\\3616022321.py:13: DeprecationWarning: Conversion of an array with ndim > 0 to a scalar is deprecated, and will error in future. Ensure you extract a single element from your array before performing this operation. (Deprecated NumPy 1.25.)\n",
      "  prices_next_year.append(round(float(predictions), 2))\n",
      "C:\\Users\\ideod\\AppData\\Local\\Temp\\ipykernel_15028\\3616022321.py:13: DeprecationWarning: Conversion of an array with ndim > 0 to a scalar is deprecated, and will error in future. Ensure you extract a single element from your array before performing this operation. (Deprecated NumPy 1.25.)\n",
      "  prices_next_year.append(round(float(predictions), 2))\n",
      "C:\\Users\\ideod\\AppData\\Local\\Temp\\ipykernel_15028\\3616022321.py:13: DeprecationWarning: Conversion of an array with ndim > 0 to a scalar is deprecated, and will error in future. Ensure you extract a single element from your array before performing this operation. (Deprecated NumPy 1.25.)\n",
      "  prices_next_year.append(round(float(predictions), 2))\n",
      "C:\\Users\\ideod\\AppData\\Local\\Temp\\ipykernel_15028\\3616022321.py:13: DeprecationWarning: Conversion of an array with ndim > 0 to a scalar is deprecated, and will error in future. Ensure you extract a single element from your array before performing this operation. (Deprecated NumPy 1.25.)\n",
      "  prices_next_year.append(round(float(predictions), 2))\n",
      "C:\\Users\\ideod\\AppData\\Local\\Temp\\ipykernel_15028\\3616022321.py:13: DeprecationWarning: Conversion of an array with ndim > 0 to a scalar is deprecated, and will error in future. Ensure you extract a single element from your array before performing this operation. (Deprecated NumPy 1.25.)\n",
      "  prices_next_year.append(round(float(predictions), 2))\n",
      "C:\\Users\\ideod\\AppData\\Local\\Temp\\ipykernel_15028\\3616022321.py:13: DeprecationWarning: Conversion of an array with ndim > 0 to a scalar is deprecated, and will error in future. Ensure you extract a single element from your array before performing this operation. (Deprecated NumPy 1.25.)\n",
      "  prices_next_year.append(round(float(predictions), 2))\n",
      "C:\\Users\\ideod\\AppData\\Local\\Temp\\ipykernel_15028\\3616022321.py:13: DeprecationWarning: Conversion of an array with ndim > 0 to a scalar is deprecated, and will error in future. Ensure you extract a single element from your array before performing this operation. (Deprecated NumPy 1.25.)\n",
      "  prices_next_year.append(round(float(predictions), 2))\n",
      "C:\\Users\\ideod\\AppData\\Local\\Temp\\ipykernel_15028\\3616022321.py:13: DeprecationWarning: Conversion of an array with ndim > 0 to a scalar is deprecated, and will error in future. Ensure you extract a single element from your array before performing this operation. (Deprecated NumPy 1.25.)\n",
      "  prices_next_year.append(round(float(predictions), 2))\n",
      "C:\\Users\\ideod\\AppData\\Local\\Temp\\ipykernel_15028\\3616022321.py:13: DeprecationWarning: Conversion of an array with ndim > 0 to a scalar is deprecated, and will error in future. Ensure you extract a single element from your array before performing this operation. (Deprecated NumPy 1.25.)\n",
      "  prices_next_year.append(round(float(predictions), 2))\n",
      "C:\\Users\\ideod\\AppData\\Local\\Temp\\ipykernel_15028\\3616022321.py:13: DeprecationWarning: Conversion of an array with ndim > 0 to a scalar is deprecated, and will error in future. Ensure you extract a single element from your array before performing this operation. (Deprecated NumPy 1.25.)\n",
      "  prices_next_year.append(round(float(predictions), 2))\n"
     ]
    },
    {
     "data": {
      "text/plain": [
       "array([13.2 , 12.8 , 13.25, 12.65, 12.08, 11.95, 12.25, 11.9 , 12.45,\n",
       "       12.85, 13.46, 13.66])"
      ]
     },
     "execution_count": 1555,
     "metadata": {},
     "output_type": "execute_result"
    }
   ],
   "source": [
    "#to predict gas prices for the year 2025\n",
    "gas_prices2025 = next_year_price(2025)\n",
    "np.array(gas_prices2025)"
   ]
  },
  {
   "cell_type": "code",
   "execution_count": 1556,
   "id": "e2c29bd7-a815-48d5-990a-a64f90eded4d",
   "metadata": {},
   "outputs": [
    {
     "name": "stderr",
     "output_type": "stream",
     "text": [
      "C:\\Users\\ideod\\AppData\\Local\\Temp\\ipykernel_15028\\3616022321.py:13: DeprecationWarning: Conversion of an array with ndim > 0 to a scalar is deprecated, and will error in future. Ensure you extract a single element from your array before performing this operation. (Deprecated NumPy 1.25.)\n",
      "  prices_next_year.append(round(float(predictions), 2))\n",
      "C:\\Users\\ideod\\AppData\\Local\\Temp\\ipykernel_15028\\3616022321.py:13: DeprecationWarning: Conversion of an array with ndim > 0 to a scalar is deprecated, and will error in future. Ensure you extract a single element from your array before performing this operation. (Deprecated NumPy 1.25.)\n",
      "  prices_next_year.append(round(float(predictions), 2))\n",
      "C:\\Users\\ideod\\AppData\\Local\\Temp\\ipykernel_15028\\3616022321.py:13: DeprecationWarning: Conversion of an array with ndim > 0 to a scalar is deprecated, and will error in future. Ensure you extract a single element from your array before performing this operation. (Deprecated NumPy 1.25.)\n",
      "  prices_next_year.append(round(float(predictions), 2))\n",
      "C:\\Users\\ideod\\AppData\\Local\\Temp\\ipykernel_15028\\3616022321.py:13: DeprecationWarning: Conversion of an array with ndim > 0 to a scalar is deprecated, and will error in future. Ensure you extract a single element from your array before performing this operation. (Deprecated NumPy 1.25.)\n",
      "  prices_next_year.append(round(float(predictions), 2))\n",
      "C:\\Users\\ideod\\AppData\\Local\\Temp\\ipykernel_15028\\3616022321.py:13: DeprecationWarning: Conversion of an array with ndim > 0 to a scalar is deprecated, and will error in future. Ensure you extract a single element from your array before performing this operation. (Deprecated NumPy 1.25.)\n",
      "  prices_next_year.append(round(float(predictions), 2))\n",
      "C:\\Users\\ideod\\AppData\\Local\\Temp\\ipykernel_15028\\3616022321.py:13: DeprecationWarning: Conversion of an array with ndim > 0 to a scalar is deprecated, and will error in future. Ensure you extract a single element from your array before performing this operation. (Deprecated NumPy 1.25.)\n",
      "  prices_next_year.append(round(float(predictions), 2))\n",
      "C:\\Users\\ideod\\AppData\\Local\\Temp\\ipykernel_15028\\3616022321.py:13: DeprecationWarning: Conversion of an array with ndim > 0 to a scalar is deprecated, and will error in future. Ensure you extract a single element from your array before performing this operation. (Deprecated NumPy 1.25.)\n",
      "  prices_next_year.append(round(float(predictions), 2))\n",
      "C:\\Users\\ideod\\AppData\\Local\\Temp\\ipykernel_15028\\3616022321.py:13: DeprecationWarning: Conversion of an array with ndim > 0 to a scalar is deprecated, and will error in future. Ensure you extract a single element from your array before performing this operation. (Deprecated NumPy 1.25.)\n",
      "  prices_next_year.append(round(float(predictions), 2))\n",
      "C:\\Users\\ideod\\AppData\\Local\\Temp\\ipykernel_15028\\3616022321.py:13: DeprecationWarning: Conversion of an array with ndim > 0 to a scalar is deprecated, and will error in future. Ensure you extract a single element from your array before performing this operation. (Deprecated NumPy 1.25.)\n",
      "  prices_next_year.append(round(float(predictions), 2))\n",
      "C:\\Users\\ideod\\AppData\\Local\\Temp\\ipykernel_15028\\3616022321.py:13: DeprecationWarning: Conversion of an array with ndim > 0 to a scalar is deprecated, and will error in future. Ensure you extract a single element from your array before performing this operation. (Deprecated NumPy 1.25.)\n",
      "  prices_next_year.append(round(float(predictions), 2))\n",
      "C:\\Users\\ideod\\AppData\\Local\\Temp\\ipykernel_15028\\3616022321.py:13: DeprecationWarning: Conversion of an array with ndim > 0 to a scalar is deprecated, and will error in future. Ensure you extract a single element from your array before performing this operation. (Deprecated NumPy 1.25.)\n",
      "  prices_next_year.append(round(float(predictions), 2))\n",
      "C:\\Users\\ideod\\AppData\\Local\\Temp\\ipykernel_15028\\3616022321.py:13: DeprecationWarning: Conversion of an array with ndim > 0 to a scalar is deprecated, and will error in future. Ensure you extract a single element from your array before performing this operation. (Deprecated NumPy 1.25.)\n",
      "  prices_next_year.append(round(float(predictions), 2))\n"
     ]
    },
    {
     "data": {
      "text/plain": [
       "array([13.77, 13.24, 13.84, 13.24, 12.6 , 12.45, 12.79, 12.33, 13.  ,\n",
       "       13.45, 14.07, 14.22])"
      ]
     },
     "execution_count": 1556,
     "metadata": {},
     "output_type": "execute_result"
    }
   ],
   "source": [
    "#to predict gas prices for year 2026\n",
    "gas_prices2026 = next_year_price(2026)\n",
    "np.array(gas_prices2026)"
   ]
  },
  {
   "cell_type": "code",
   "execution_count": 1557,
   "id": "442652f5-c803-48d2-8d37-41bf6e8c43c6",
   "metadata": {},
   "outputs": [
    {
     "name": "stderr",
     "output_type": "stream",
     "text": [
      "C:\\Users\\ideod\\AppData\\Local\\Temp\\ipykernel_15028\\3616022321.py:13: DeprecationWarning: Conversion of an array with ndim > 0 to a scalar is deprecated, and will error in future. Ensure you extract a single element from your array before performing this operation. (Deprecated NumPy 1.25.)\n",
      "  prices_next_year.append(round(float(predictions), 2))\n",
      "C:\\Users\\ideod\\AppData\\Local\\Temp\\ipykernel_15028\\3616022321.py:13: DeprecationWarning: Conversion of an array with ndim > 0 to a scalar is deprecated, and will error in future. Ensure you extract a single element from your array before performing this operation. (Deprecated NumPy 1.25.)\n",
      "  prices_next_year.append(round(float(predictions), 2))\n",
      "C:\\Users\\ideod\\AppData\\Local\\Temp\\ipykernel_15028\\3616022321.py:13: DeprecationWarning: Conversion of an array with ndim > 0 to a scalar is deprecated, and will error in future. Ensure you extract a single element from your array before performing this operation. (Deprecated NumPy 1.25.)\n",
      "  prices_next_year.append(round(float(predictions), 2))\n",
      "C:\\Users\\ideod\\AppData\\Local\\Temp\\ipykernel_15028\\3616022321.py:13: DeprecationWarning: Conversion of an array with ndim > 0 to a scalar is deprecated, and will error in future. Ensure you extract a single element from your array before performing this operation. (Deprecated NumPy 1.25.)\n",
      "  prices_next_year.append(round(float(predictions), 2))\n",
      "C:\\Users\\ideod\\AppData\\Local\\Temp\\ipykernel_15028\\3616022321.py:13: DeprecationWarning: Conversion of an array with ndim > 0 to a scalar is deprecated, and will error in future. Ensure you extract a single element from your array before performing this operation. (Deprecated NumPy 1.25.)\n",
      "  prices_next_year.append(round(float(predictions), 2))\n",
      "C:\\Users\\ideod\\AppData\\Local\\Temp\\ipykernel_15028\\3616022321.py:13: DeprecationWarning: Conversion of an array with ndim > 0 to a scalar is deprecated, and will error in future. Ensure you extract a single element from your array before performing this operation. (Deprecated NumPy 1.25.)\n",
      "  prices_next_year.append(round(float(predictions), 2))\n",
      "C:\\Users\\ideod\\AppData\\Local\\Temp\\ipykernel_15028\\3616022321.py:13: DeprecationWarning: Conversion of an array with ndim > 0 to a scalar is deprecated, and will error in future. Ensure you extract a single element from your array before performing this operation. (Deprecated NumPy 1.25.)\n",
      "  prices_next_year.append(round(float(predictions), 2))\n",
      "C:\\Users\\ideod\\AppData\\Local\\Temp\\ipykernel_15028\\3616022321.py:13: DeprecationWarning: Conversion of an array with ndim > 0 to a scalar is deprecated, and will error in future. Ensure you extract a single element from your array before performing this operation. (Deprecated NumPy 1.25.)\n",
      "  prices_next_year.append(round(float(predictions), 2))\n",
      "C:\\Users\\ideod\\AppData\\Local\\Temp\\ipykernel_15028\\3616022321.py:13: DeprecationWarning: Conversion of an array with ndim > 0 to a scalar is deprecated, and will error in future. Ensure you extract a single element from your array before performing this operation. (Deprecated NumPy 1.25.)\n",
      "  prices_next_year.append(round(float(predictions), 2))\n",
      "C:\\Users\\ideod\\AppData\\Local\\Temp\\ipykernel_15028\\3616022321.py:13: DeprecationWarning: Conversion of an array with ndim > 0 to a scalar is deprecated, and will error in future. Ensure you extract a single element from your array before performing this operation. (Deprecated NumPy 1.25.)\n",
      "  prices_next_year.append(round(float(predictions), 2))\n",
      "C:\\Users\\ideod\\AppData\\Local\\Temp\\ipykernel_15028\\3616022321.py:13: DeprecationWarning: Conversion of an array with ndim > 0 to a scalar is deprecated, and will error in future. Ensure you extract a single element from your array before performing this operation. (Deprecated NumPy 1.25.)\n",
      "  prices_next_year.append(round(float(predictions), 2))\n",
      "C:\\Users\\ideod\\AppData\\Local\\Temp\\ipykernel_15028\\3616022321.py:13: DeprecationWarning: Conversion of an array with ndim > 0 to a scalar is deprecated, and will error in future. Ensure you extract a single element from your array before performing this operation. (Deprecated NumPy 1.25.)\n",
      "  prices_next_year.append(round(float(predictions), 2))\n"
     ]
    },
    {
     "data": {
      "text/plain": [
       "array([14.34, 13.68, 14.43, 13.83, 13.12, 12.95, 13.33, 12.76, 13.55,\n",
       "       14.05, 14.68, 14.78])"
      ]
     },
     "execution_count": 1557,
     "metadata": {},
     "output_type": "execute_result"
    }
   ],
   "source": [
    "#to predict gas prices for year 2027\n",
    "gas_prices2027 = next_year_price(2027)\n",
    "np.array(gas_prices2027)"
   ]
  },
  {
   "cell_type": "code",
   "execution_count": 1558,
   "id": "9cfc3e40-6a0d-434b-97b2-153c9395cc4f",
   "metadata": {},
   "outputs": [
    {
     "data": {
      "image/png": "[encoded data removed]",
      "text/plain": [
       "<Figure size 640x480 with 1 Axes>"
      ]
     },
     "metadata": {},
     "output_type": "display_data"
    }
   ],
   "source": [
    "#plotting all predictions plots simultaneously\n",
    "Months = ['Oct', 'Nov', 'Dec', 'Jan', 'Feb', 'Mar', 'Apr', 'May', 'Jun', 'Jul', 'Aug', 'Sep']\n",
    "\n",
    "plt.plot(Months, np.array(gas_prices2025), color = 'red', label = '2025 predicted prices')\n",
    "plt.plot(Months, np.array(gas_prices2026), color = 'green', label = '2026 predicted prices')\n",
    "plt.plot(Months, np.array(gas_prices2027), color = 'magenta', label = '2027 predicted prices')\n",
    "\n",
    "\n",
    "plt.xlabel(\"Months\")\n",
    "plt.ylabel(\"Prices\")\n",
    "plt.title(\"Comparison of predicted prices for 2025, 2026 and 2027\")\n",
    "plt.legend()\n",
    "plt.show()"
   ]
  },
  {
   "cell_type": "code",
   "execution_count": 1559,
   "id": "420f8157-ff33-4d41-9a3a-374bc7589924",
   "metadata": {},
   "outputs": [
    {
     "name": "stdout",
     "output_type": "stream",
     "text": [
      "Based on the above visualizations, the prices dip between December and March, and pickup significantly from May to October\n",
      "The above visualization also indicates that prices decrease in the winter and pickup just after summer\n"
     ]
    }
   ],
   "source": [
    "print(\"Based on the above visualizations, the prices dip between December and March, and pickup significantly from May to October\")\n",
    "print(\"The above visualization also indicates that prices decrease in the winter and pickup just after summer\")"
   ]
  }
 ],
 "metadata": {
  "kernelspec": {
   "display_name": "Python [conda env:base] *",
   "language": "python",
   "name": "conda-base-py"
  },
  "language_info": {
   "codemirror_mode": {
    "name": "ipython",
    "version": 3
   },
   "file_extension": ".py",
   "mimetype": "text/x-python",
   "name": "python",
   "nbconvert_exporter": "python",
   "pygments_lexer": "ipython3",
   "version": "3.12.7"
  }
 },
 "nbformat": 4,
 "nbformat_minor": 5
}
