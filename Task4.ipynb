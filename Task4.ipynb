{
 "cells": [
  {
   "cell_type": "code",
   "execution_count": 482,
   "id": "8f354bb6-fb80-41de-bd68-eeb927c1b851",
   "metadata": {},
   "outputs": [],
   "source": [
    "#downloading dataset, importing libraries\n",
    "\n",
    "import pandas as pd\n",
    "\n",
    "import numpy as np\n",
    "\n",
    "import os\n",
    "\n",
    "import matplotlib.pyplot as plt\n",
    "\n",
    "import seaborn as sns\n",
    "\n",
    "import sys\n"
   ]
  },
  {
   "cell_type": "code",
   "execution_count": 483,
   "id": "c3e0254c-e80b-470d-9e12-9e48794faefa",
   "metadata": {},
   "outputs": [
    {
     "data": {
      "text/html": [
       "<div>\n",
       "<style scoped>\n",
       "    .dataframe tbody tr th:only-of-type {\n",
       "        vertical-align: middle;\n",
       "    }\n",
       "\n",
       "    .dataframe tbody tr th {\n",
       "        vertical-align: top;\n",
       "    }\n",
       "\n",
       "    .dataframe thead th {\n",
       "        text-align: right;\n",
       "    }\n",
       "</style>\n",
       "<table border=\"1\" class=\"dataframe\">\n",
       "  <thead>\n",
       "    <tr style=\"text-align: right;\">\n",
       "      <th></th>\n",
       "      <th>customer_id</th>\n",
       "      <th>credit_lines_outstanding</th>\n",
       "      <th>loan_amt_outstanding</th>\n",
       "      <th>total_debt_outstanding</th>\n",
       "      <th>income</th>\n",
       "      <th>years_employed</th>\n",
       "      <th>fico_score</th>\n",
       "      <th>default</th>\n",
       "    </tr>\n",
       "  </thead>\n",
       "  <tbody>\n",
       "    <tr>\n",
       "      <th>0</th>\n",
       "      <td>8153374</td>\n",
       "      <td>0</td>\n",
       "      <td>5221.545193</td>\n",
       "      <td>3915.471226</td>\n",
       "      <td>78039.38546</td>\n",
       "      <td>5</td>\n",
       "      <td>605</td>\n",
       "      <td>0</td>\n",
       "    </tr>\n",
       "    <tr>\n",
       "      <th>1</th>\n",
       "      <td>7442532</td>\n",
       "      <td>5</td>\n",
       "      <td>1958.928726</td>\n",
       "      <td>8228.752520</td>\n",
       "      <td>26648.43525</td>\n",
       "      <td>2</td>\n",
       "      <td>572</td>\n",
       "      <td>1</td>\n",
       "    </tr>\n",
       "    <tr>\n",
       "      <th>2</th>\n",
       "      <td>2256073</td>\n",
       "      <td>0</td>\n",
       "      <td>3363.009259</td>\n",
       "      <td>2027.830850</td>\n",
       "      <td>65866.71246</td>\n",
       "      <td>4</td>\n",
       "      <td>602</td>\n",
       "      <td>0</td>\n",
       "    </tr>\n",
       "    <tr>\n",
       "      <th>3</th>\n",
       "      <td>4885975</td>\n",
       "      <td>0</td>\n",
       "      <td>4766.648001</td>\n",
       "      <td>2501.730397</td>\n",
       "      <td>74356.88347</td>\n",
       "      <td>5</td>\n",
       "      <td>612</td>\n",
       "      <td>0</td>\n",
       "    </tr>\n",
       "    <tr>\n",
       "      <th>4</th>\n",
       "      <td>4700614</td>\n",
       "      <td>1</td>\n",
       "      <td>1345.827718</td>\n",
       "      <td>1768.826187</td>\n",
       "      <td>23448.32631</td>\n",
       "      <td>6</td>\n",
       "      <td>631</td>\n",
       "      <td>0</td>\n",
       "    </tr>\n",
       "    <tr>\n",
       "      <th>...</th>\n",
       "      <td>...</td>\n",
       "      <td>...</td>\n",
       "      <td>...</td>\n",
       "      <td>...</td>\n",
       "      <td>...</td>\n",
       "      <td>...</td>\n",
       "      <td>...</td>\n",
       "      <td>...</td>\n",
       "    </tr>\n",
       "    <tr>\n",
       "      <th>9995</th>\n",
       "      <td>3972488</td>\n",
       "      <td>0</td>\n",
       "      <td>3033.647103</td>\n",
       "      <td>2553.733144</td>\n",
       "      <td>42691.62787</td>\n",
       "      <td>5</td>\n",
       "      <td>697</td>\n",
       "      <td>0</td>\n",
       "    </tr>\n",
       "    <tr>\n",
       "      <th>9996</th>\n",
       "      <td>6184073</td>\n",
       "      <td>1</td>\n",
       "      <td>4146.239304</td>\n",
       "      <td>5458.163525</td>\n",
       "      <td>79969.50521</td>\n",
       "      <td>8</td>\n",
       "      <td>615</td>\n",
       "      <td>0</td>\n",
       "    </tr>\n",
       "    <tr>\n",
       "      <th>9997</th>\n",
       "      <td>6694516</td>\n",
       "      <td>2</td>\n",
       "      <td>3088.223727</td>\n",
       "      <td>4813.090925</td>\n",
       "      <td>38192.67591</td>\n",
       "      <td>5</td>\n",
       "      <td>596</td>\n",
       "      <td>0</td>\n",
       "    </tr>\n",
       "    <tr>\n",
       "      <th>9998</th>\n",
       "      <td>3942961</td>\n",
       "      <td>0</td>\n",
       "      <td>3288.901666</td>\n",
       "      <td>1043.099660</td>\n",
       "      <td>50929.37206</td>\n",
       "      <td>2</td>\n",
       "      <td>647</td>\n",
       "      <td>0</td>\n",
       "    </tr>\n",
       "    <tr>\n",
       "      <th>9999</th>\n",
       "      <td>5533570</td>\n",
       "      <td>1</td>\n",
       "      <td>1917.652480</td>\n",
       "      <td>3050.248203</td>\n",
       "      <td>30611.62821</td>\n",
       "      <td>6</td>\n",
       "      <td>757</td>\n",
       "      <td>0</td>\n",
       "    </tr>\n",
       "  </tbody>\n",
       "</table>\n",
       "<p>10000 rows × 8 columns</p>\n",
       "</div>"
      ],
      "text/plain": [
       "      customer_id  credit_lines_outstanding  loan_amt_outstanding  \\\n",
       "0         8153374                         0           5221.545193   \n",
       "1         7442532                         5           1958.928726   \n",
       "2         2256073                         0           3363.009259   \n",
       "3         4885975                         0           4766.648001   \n",
       "4         4700614                         1           1345.827718   \n",
       "...           ...                       ...                   ...   \n",
       "9995      3972488                         0           3033.647103   \n",
       "9996      6184073                         1           4146.239304   \n",
       "9997      6694516                         2           3088.223727   \n",
       "9998      3942961                         0           3288.901666   \n",
       "9999      5533570                         1           1917.652480   \n",
       "\n",
       "      total_debt_outstanding       income  years_employed  fico_score  default  \n",
       "0                3915.471226  78039.38546               5         605        0  \n",
       "1                8228.752520  26648.43525               2         572        1  \n",
       "2                2027.830850  65866.71246               4         602        0  \n",
       "3                2501.730397  74356.88347               5         612        0  \n",
       "4                1768.826187  23448.32631               6         631        0  \n",
       "...                      ...          ...             ...         ...      ...  \n",
       "9995             2553.733144  42691.62787               5         697        0  \n",
       "9996             5458.163525  79969.50521               8         615        0  \n",
       "9997             4813.090925  38192.67591               5         596        0  \n",
       "9998             1043.099660  50929.37206               2         647        0  \n",
       "9999             3050.248203  30611.62821               6         757        0  \n",
       "\n",
       "[10000 rows x 8 columns]"
      ]
     },
     "execution_count": 483,
     "metadata": {},
     "output_type": "execute_result"
    }
   ],
   "source": [
    "# reading the file...\n",
    "\n",
    "df = pd.read_csv('Task 3 and 4_Loan_Data.csv')\n",
    "\n",
    "df.head()\n",
    "\n",
    "df.dropna()\n",
    "\n"
   ]
  },
  {
   "cell_type": "code",
   "execution_count": 484,
   "id": "aa694d29-f6de-4f64-9d21-a71bb27dd6b7",
   "metadata": {},
   "outputs": [
    {
     "name": "stdout",
     "output_type": "stream",
     "text": [
      "Clustering method to be used as it will help group customerv (by FICO score) into defaults and no defaults\n"
     ]
    }
   ],
   "source": [
    "print(\"Clustering method to be used as it will help group customerv (by FICO score) into defaults and no defaults\")"
   ]
  },
  {
   "cell_type": "code",
   "execution_count": 485,
   "id": "e28ab42b-257b-46fb-a73b-41d1cd6547f2",
   "metadata": {},
   "outputs": [],
   "source": [
    "# defining X and y variables\n",
    "X = df['fico_score'].values\n",
    "X = X.reshape(-1,1)\n",
    "y = df['default'].values"
   ]
  },
  {
   "cell_type": "code",
   "execution_count": 486,
   "id": "3e436fff-1ba9-4d8d-8962-ca1091e91de9",
   "metadata": {},
   "outputs": [
    {
     "name": "stdout",
     "output_type": "stream",
     "text": [
      "Since the requirement of the task is to find a general approach to generating buckets, large datasets \n",
      "Agglomerative clustering will be used as it will automatically create boundaries and thresholds, and will help grouping based on FICO scores\n"
     ]
    }
   ],
   "source": [
    "print(\"Since the requirement of the task is to find a general approach to generating buckets, large datasets \")\n",
    "print (\"Agglomerative clustering will be used as it will automatically create boundaries and thresholds, and will help grouping based on FICO scores\")"
   ]
  },
  {
   "cell_type": "code",
   "execution_count": 487,
   "id": "1ac01b1f-35d1-4850-9281-e0bd794ad1db",
   "metadata": {},
   "outputs": [
    {
     "data": {
      "image/png": "[encoded data removed]",
      "text/plain": [
       "<Figure size 640x480 with 1 Axes>"
      ]
     },
     "metadata": {},
     "output_type": "display_data"
    }
   ],
   "source": [
    "import scipy.cluster.hierarchy as sch\n",
    "\n",
    "from sklearn.cluster import AgglomerativeClustering\n",
    "\n",
    "model_cluster = AgglomerativeClustering(n_clusters = 5, linkage = 'ward')\n",
    "\n",
    "y_cluster = model_cluster.fit_predict(X)\n",
    "\n",
    "z = df['income'].values\n",
    "\n",
    "plt.scatter(X, y, c = y_cluster, cmap = \"rainbow\")\n",
    "\n",
    "plt.xlabel('FICO scores')\n",
    "plt.ylabel('Default')\n",
    "plt.title(\"Agglomerative Clustering\")\n",
    "plt.show()"
   ]
  },
  {
   "cell_type": "code",
   "execution_count": 488,
   "id": "c64ee423-7230-4bd4-8250-9111a08a04d6",
   "metadata": {},
   "outputs": [
    {
     "name": "stdout",
     "output_type": "stream",
     "text": [
      "The above visualization has automatically created buckets for FICO scores\n",
      "approximate groupings: FICO scores <550 (bucket 1), 550<FICO score<625 (bucket 2), 625<FICO score< 675 (bucket 3), 675<FICO<700 (bucket4)\n",
      "finally: FICO score > 700 (bucket 5)\n"
     ]
    }
   ],
   "source": [
    "#VISUALIZATION\n",
    "print(\"The above visualization has automatically created buckets for FICO scores\")\n",
    "print(\"approximate groupings: FICO scores <550 (bucket 1), 550<FICO score<625 (bucket 2), 625<FICO score< 675 (bucket 3), 675<FICO<700 (bucket4)\")\n",
    "print(\"finally: FICO score > 700 (bucket 5)\")"
   ]
  },
  {
   "cell_type": "code",
   "execution_count": 489,
   "id": "c0314608-9e00-48f9-95bc-a5c0b26ecba3",
   "metadata": {},
   "outputs": [
    {
     "name": "stdout",
     "output_type": "stream",
     "text": [
      "The above visualization indicates that customers whose FICO score <550 are more likely to default on loan\n",
      "And customers whose FICO score >700 are less likely to default\n"
     ]
    }
   ],
   "source": [
    "#CONCLUSION\n",
    "print(\"The above visualization indicates that customers whose FICO score <550 are more likely to default on loan\")\n",
    "print(\"And customers whose FICO score >700 are less likely to default\")"
   ]
  }
 ],
 "metadata": {
  "kernelspec": {
   "display_name": "Python [conda env:base] *",
   "language": "python",
   "name": "conda-base-py"
  },
  "language_info": {
   "codemirror_mode": {
    "name": "ipython",
    "version": 3
   },
   "file_extension": ".py",
   "mimetype": "text/x-python",
   "name": "python",
   "nbconvert_exporter": "python",
   "pygments_lexer": "ipython3",
   "version": "3.12.7"
  }
 },
 "nbformat": 4,
 "nbformat_minor": 5
}
